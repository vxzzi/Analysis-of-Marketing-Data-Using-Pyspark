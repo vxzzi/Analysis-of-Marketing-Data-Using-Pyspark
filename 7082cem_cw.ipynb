{
 "cells": [
  {
   "cell_type": "code",
   "execution_count": 128,
   "metadata": {},
   "outputs": [],
   "source": [
    "from pyspark import SparkContext, SparkConf\n",
    "\n",
    "from pyspark.ml.feature import StringIndexer, IndexToString, VectorAssembler\n",
    "from pyspark.ml.feature import VectorIndexer, QuantileDiscretizer, OneHotEncoder\n",
    "from pyspark.ml.evaluation import MulticlassClassificationEvaluator, BinaryClassificationEvaluator \n",
    "from pyspark.ml.classification import LogisticRegression, GBTClassifier, RandomForestClassifier\n",
    "from pyspark.ml import Pipeline\n",
    "\n",
    "from pyspark.sql import SQLContext, SparkSession\n",
    "from pyspark.sql.types import *\n",
    "from pyspark.sql.functions import mean, col, split, col, when, lit\n",
    "from pyspark.sql import*"
   ]
  },
  {
   "cell_type": "code",
   "execution_count": 163,
   "metadata": {},
   "outputs": [
    {
     "data": {
      "text/html": [
       "\n",
       "        <div>\n",
       "            <p><b>SparkContext</b></p>\n",
       "\n",
       "            <p><a href=\"http://192.168.0.19:4041\">Spark UI</a></p>\n",
       "\n",
       "            <dl>\n",
       "              <dt>Version</dt>\n",
       "                <dd><code>v3.1.2</code></dd>\n",
       "              <dt>Master</dt>\n",
       "                <dd><code>local</code></dd>\n",
       "              <dt>AppName</dt>\n",
       "                <dd><code>sparkproject</code></dd>\n",
       "            </dl>\n",
       "        </div>\n",
       "        "
      ],
      "text/plain": [
       "<SparkContext master=local appName=sparkproject>"
      ]
     },
     "execution_count": 163,
     "metadata": {},
     "output_type": "execute_result"
    }
   ],
   "source": [
    "conf = SparkConf().setMaster(\"local[*]\").setAppName(\"sparkproject\")\n",
    "sc = SparkContext.getOrCreate(conf=conf)\n",
    "sqlContext = SQLContext(sc)\n",
    "sc"
   ]
  },
  {
   "cell_type": "code",
   "execution_count": 130,
   "metadata": {
    "scrolled": false
   },
   "outputs": [
    {
     "name": "stdout",
     "output_type": "stream",
     "text": [
      "root\n",
      " |-- age: integer (nullable = true)\n",
      " |-- job: string (nullable = true)\n",
      " |-- marital: string (nullable = true)\n",
      " |-- education: string (nullable = true)\n",
      " |-- default: string (nullable = true)\n",
      " |-- balance: integer (nullable = true)\n",
      " |-- housing: string (nullable = true)\n",
      " |-- loan: string (nullable = true)\n",
      " |-- contact: string (nullable = true)\n",
      " |-- day: integer (nullable = true)\n",
      " |-- month: string (nullable = true)\n",
      " |-- duration: integer (nullable = true)\n",
      " |-- campaign: integer (nullable = true)\n",
      " |-- pdays: integer (nullable = true)\n",
      " |-- previous: integer (nullable = true)\n",
      " |-- poutcome: string (nullable = true)\n",
      " |-- y: string (nullable = true)\n",
      "\n"
     ]
    }
   ],
   "source": [
    "#dataframe \n",
    "#set header property true for the actual header columns\n",
    "df=sqlContext.read.csv(\"bank-full.csv\", inferSchema=True, header=True, sep=\";\")\n",
    "#display the columns from the dataframe\n",
    "df.printSchema()"
   ]
  },
  {
   "cell_type": "code",
   "execution_count": 131,
   "metadata": {
    "scrolled": true
   },
   "outputs": [
    {
     "name": "stdout",
     "output_type": "stream",
     "text": [
      "root\n",
      " |-- age: integer (nullable = true)\n",
      " |-- job: string (nullable = true)\n",
      " |-- marital: string (nullable = true)\n",
      " |-- education: string (nullable = true)\n",
      " |-- default: string (nullable = true)\n",
      " |-- balance: integer (nullable = true)\n",
      " |-- housing: string (nullable = true)\n",
      " |-- loan: string (nullable = true)\n",
      " |-- contact: string (nullable = true)\n",
      " |-- day: integer (nullable = true)\n",
      " |-- month: string (nullable = true)\n",
      " |-- duration: integer (nullable = true)\n",
      " |-- campaign: integer (nullable = true)\n",
      " |-- pdays: integer (nullable = true)\n",
      " |-- previous: integer (nullable = true)\n",
      " |-- poutcome: string (nullable = true)\n",
      " |-- y: string (nullable = true)\n",
      "\n"
     ]
    }
   ],
   "source": [
    "df.printSchema()"
   ]
  },
  {
   "cell_type": "code",
   "execution_count": 132,
   "metadata": {
    "scrolled": true
   },
   "outputs": [
    {
     "name": "stdout",
     "output_type": "stream",
     "text": [
      "+---+------------+-------+---------+-------+-------+-------+----+-------+---+-----+--------+--------+-----+--------+--------+---+\n",
      "|age|job         |marital|education|default|balance|housing|loan|contact|day|month|duration|campaign|pdays|previous|poutcome|y  |\n",
      "+---+------------+-------+---------+-------+-------+-------+----+-------+---+-----+--------+--------+-----+--------+--------+---+\n",
      "|58 |management  |married|tertiary |no     |2143   |yes    |no  |unknown|5  |may  |261     |1       |-1   |0       |unknown |no |\n",
      "|44 |technician  |single |secondary|no     |29     |yes    |no  |unknown|5  |may  |151     |1       |-1   |0       |unknown |no |\n",
      "|33 |entrepreneur|married|secondary|no     |2      |yes    |yes |unknown|5  |may  |76      |1       |-1   |0       |unknown |no |\n",
      "|47 |blue-collar |married|unknown  |no     |1506   |yes    |no  |unknown|5  |may  |92      |1       |-1   |0       |unknown |no |\n",
      "|33 |unknown     |single |unknown  |no     |1      |no     |no  |unknown|5  |may  |198     |1       |-1   |0       |unknown |no |\n",
      "+---+------------+-------+---------+-------+-------+-------+----+-------+---+-----+--------+--------+-----+--------+--------+---+\n",
      "only showing top 5 rows\n",
      "\n"
     ]
    }
   ],
   "source": [
    "df.show(5, truncate=False)"
   ]
  },
  {
   "cell_type": "code",
   "execution_count": 133,
   "metadata": {},
   "outputs": [
    {
     "name": "stdout",
     "output_type": "stream",
     "text": [
      "The number of customers is 45211\n"
     ]
    }
   ],
   "source": [
    "customer_count = df.count()\n",
    "print(\"The number of customers is {}\".format(customer_count))"
   ]
  },
  {
   "cell_type": "code",
   "execution_count": 134,
   "metadata": {},
   "outputs": [
    {
     "name": "stdout",
     "output_type": "stream",
     "text": [
      "+---+-----+\n",
      "|age|count|\n",
      "+---+-----+\n",
      "| 31| 1996|\n",
      "| 85|    5|\n",
      "| 65|   59|\n",
      "| 53|  891|\n",
      "| 78|   30|\n",
      "| 34| 1930|\n",
      "| 81|   17|\n",
      "| 28| 1038|\n",
      "| 76|   32|\n",
      "| 27|  909|\n",
      "| 26|  805|\n",
      "| 44| 1136|\n",
      "| 22|  129|\n",
      "| 93|    2|\n",
      "| 47| 1088|\n",
      "| 52|  911|\n",
      "| 86|    9|\n",
      "| 40| 1355|\n",
      "| 20|   50|\n",
      "| 94|    1|\n",
      "+---+-----+\n",
      "only showing top 20 rows\n",
      "\n"
     ]
    }
   ],
   "source": [
    "group_customer = df.groupBy(\"age\").count()\n",
    "group_customer.show()"
   ]
  },
  {
   "cell_type": "code",
   "execution_count": 135,
   "metadata": {},
   "outputs": [
    {
     "data": {
      "text/plain": [
       "DataFrame[age: int, count: bigint]"
      ]
     },
     "metadata": {},
     "output_type": "display_data"
    }
   ],
   "source": [
    "display(group_customer)"
   ]
  },
  {
   "cell_type": "code",
   "execution_count": 136,
   "metadata": {},
   "outputs": [],
   "source": [
    "def get_dummy(df, categoricalCols, continuousCols, labelCol):\n",
    "  \n",
    "  indexers = [StringIndexer(inputCol=c, outputCol=\"{0}_indexed\".format(c)) for c in categoricalCols]\n",
    "\n",
    "  encoders = [OneHotEncoder(inputCol=indexer.getOutputCol(),\n",
    "                             outputCol=\"{0}_encoded\".format(indexer.getOutputCol()))\n",
    "              for indexer in indexers]\n",
    "\n",
    "  assembler = VectorAssembler(inputCols=[encoder.getOutputCol() for encoder in encoders]\n",
    "                              + continuousCols, outputCol=\"features\")\n",
    "  \n",
    "  indexer = StringIndexer(inputCol=labelCol, outputCol='indexedLabel')\n",
    "\n",
    "\n",
    "  pipeline = Pipeline(stages = indexers + encoders + [assembler] + [indexer])\n",
    "\n",
    "  model=pipeline.fit(df)\n",
    "  data = model.transform(df)\n",
    "\n",
    "  data = data.withColumn('label', col(labelCol))\n",
    "  \n",
    "  return data.select('features', 'indexedLabel', 'label'), StringIndexer(inputCol='label').fit(data)\n"
   ]
  },
  {
   "cell_type": "code",
   "execution_count": 137,
   "metadata": {},
   "outputs": [
    {
     "name": "stdout",
     "output_type": "stream",
     "text": [
      "+--------------------+------------+-----+\n",
      "|            features|indexedLabel|label|\n",
      "+--------------------+------------+-----+\n",
      "|(30,[1,11,14,16,1...|         0.0|   no|\n",
      "|(30,[2,12,13,16,1...|         0.0|   no|\n",
      "|(30,[7,11,13,16,1...|         0.0|   no|\n",
      "|(30,[0,11,16,17,1...|         0.0|   no|\n",
      "|(30,[12,16,18,20,...|         0.0|   no|\n",
      "|(30,[1,11,14,16,1...|         0.0|   no|\n",
      "|(30,[1,12,14,16,1...|         0.0|   no|\n",
      "|(30,[7,14,17,18,2...|         0.0|   no|\n",
      "|(30,[5,11,15,16,1...|         0.0|   no|\n",
      "|(30,[2,12,13,16,1...|         0.0|   no|\n",
      "+--------------------+------------+-----+\n",
      "only showing top 10 rows\n",
      "\n"
     ]
    }
   ],
   "source": [
    "categoricalColumns = ['job', 'marital', 'education', 'default', 'housing', 'loan', 'contact', 'poutcome']\n",
    "numericCols = ['age', 'balance', 'duration', 'campaign', 'pdays', 'previous']\n",
    "(df, labelindexer) = get_dummy(df, categoricalColumns, numericCols, 'y')"
   ]
  },
  {
   "cell_type": "code",
   "execution_count": 109,
   "metadata": {},
   "outputs": [
    {
     "name": "stdout",
     "output_type": "stream",
     "text": [
      "+--------------------+------------+-----+--------------------+\n",
      "|            features|indexedLabel|label|     indexedFeatures|\n",
      "+--------------------+------------+-----+--------------------+\n",
      "|(30,[1,11,14,16,1...|         0.0|   no|(30,[1,11,14,16,1...|\n",
      "|(30,[2,12,13,16,1...|         0.0|   no|(30,[2,12,13,16,1...|\n",
      "|(30,[7,11,13,16,1...|         0.0|   no|(30,[7,11,13,16,1...|\n",
      "|(30,[0,11,16,17,1...|         0.0|   no|(30,[0,11,16,17,1...|\n",
      "|(30,[12,16,18,20,...|         0.0|   no|(30,[12,16,18,20,...|\n",
      "+--------------------+------------+-----+--------------------+\n",
      "only showing top 5 rows\n",
      "\n"
     ]
    }
   ],
   "source": [
    "featureIndexer = VectorIndexer(inputCol=\"features\", outputCol=\"indexedFeatures\", maxCategories=4).fit(df)"
   ]
  },
  {
   "cell_type": "code",
   "execution_count": 138,
   "metadata": {},
   "outputs": [
    {
     "name": "stdout",
     "output_type": "stream",
     "text": [
      "+---------------------------------------------------------------------------------------------------------+------------+-----+\n",
      "|features                                                                                                 |indexedLabel|label|\n",
      "+---------------------------------------------------------------------------------------------------------+------------+-----+\n",
      "|(30,[1,11,14,16,17,18,20,21,24,25,26,27,28],[1.0,1.0,1.0,1.0,1.0,1.0,1.0,1.0,58.0,2143.0,261.0,1.0,-1.0])|0.0         |no   |\n",
      "|(30,[2,12,13,16,17,18,20,21,24,25,26,27,28],[1.0,1.0,1.0,1.0,1.0,1.0,1.0,1.0,44.0,29.0,151.0,1.0,-1.0])  |0.0         |no   |\n",
      "|(30,[7,11,13,16,17,20,21,24,25,26,27,28],[1.0,1.0,1.0,1.0,1.0,1.0,1.0,33.0,2.0,76.0,1.0,-1.0])           |0.0         |no   |\n",
      "|(30,[0,11,16,17,18,20,21,24,25,26,27,28],[1.0,1.0,1.0,1.0,1.0,1.0,1.0,47.0,1506.0,92.0,1.0,-1.0])        |0.0         |no   |\n",
      "|(30,[12,16,18,20,21,24,25,26,27,28],[1.0,1.0,1.0,1.0,1.0,33.0,1.0,198.0,1.0,-1.0])                       |0.0         |no   |\n",
      "+---------------------------------------------------------------------------------------------------------+------------+-----+\n",
      "only showing top 5 rows\n",
      "\n"
     ]
    }
   ],
   "source": [
    "df.show(5, False)"
   ]
  },
  {
   "cell_type": "code",
   "execution_count": 141,
   "metadata": {},
   "outputs": [
    {
     "name": "stdout",
     "output_type": "stream",
     "text": [
      "Training Dataset Count: 36185\n",
      "Test Dataset Count: 9026\n"
     ]
    }
   ],
   "source": [
    "(trainingData, testData) = df.randomSplit([0.8, 0.2], seed=10)\n",
    "print(\"Training Dataset Count: \" + str(trainingData.count()))\n",
    "print(\"Test Dataset Count: \" + str(testData.count()))"
   ]
  },
  {
   "cell_type": "code",
   "execution_count": 142,
   "metadata": {},
   "outputs": [
    {
     "name": "stdout",
     "output_type": "stream",
     "text": [
      "The first 5 samples of the Training Dataset:\n",
      "+---------------------------------------------------------------------------------------------------------+------------+-----+\n",
      "|features                                                                                                 |indexedLabel|label|\n",
      "+---------------------------------------------------------------------------------------------------------+------------+-----+\n",
      "|(30,[0,11,13,16,17,18,19,21,24,25,26,27,28],[1.0,1.0,1.0,1.0,1.0,1.0,1.0,1.0,24.0,-220.0,90.0,1.0,-1.0]) |0.0         |no   |\n",
      "|(30,[0,11,13,16,17,18,19,21,24,25,26,27,28],[1.0,1.0,1.0,1.0,1.0,1.0,1.0,1.0,24.0,1470.0,212.0,1.0,-1.0])|0.0         |no   |\n",
      "|(30,[0,11,13,16,17,18,19,21,24,25,26,27,28],[1.0,1.0,1.0,1.0,1.0,1.0,1.0,1.0,25.0,2.0,102.0,2.0,-1.0])   |0.0         |no   |\n",
      "|(30,[0,11,13,16,17,18,19,21,24,25,26,27,28],[1.0,1.0,1.0,1.0,1.0,1.0,1.0,1.0,25.0,59.0,246.0,1.0,-1.0])  |0.0         |no   |\n",
      "|(30,[0,11,13,16,17,18,19,21,24,25,26,27,28],[1.0,1.0,1.0,1.0,1.0,1.0,1.0,1.0,25.0,2307.0,104.0,5.0,-1.0])|0.0         |no   |\n",
      "+---------------------------------------------------------------------------------------------------------+------------+-----+\n",
      "only showing top 5 rows\n",
      "\n",
      "The first 5 samples of the Test Dataset:\n",
      "+----------------------------------------------------------------------------------------------------------+------------+-----+\n",
      "|features                                                                                                  |indexedLabel|label|\n",
      "+----------------------------------------------------------------------------------------------------------+------------+-----+\n",
      "|(30,[0,11,13,16,17,18,19,21,24,25,26,27,28],[1.0,1.0,1.0,1.0,1.0,1.0,1.0,1.0,24.0,1222.0,369.0,1.0,-1.0]) |0.0         |no   |\n",
      "|(30,[0,11,13,16,17,18,19,21,24,25,26,27,28],[1.0,1.0,1.0,1.0,1.0,1.0,1.0,1.0,25.0,-23.0,936.0,1.0,-1.0])  |0.0         |no   |\n",
      "|(30,[0,11,13,16,17,18,19,21,24,25,26,27,28],[1.0,1.0,1.0,1.0,1.0,1.0,1.0,1.0,25.0,148.0,119.0,1.0,-1.0])  |0.0         |no   |\n",
      "|(30,[0,11,13,16,17,18,19,21,24,25,26,27,28],[1.0,1.0,1.0,1.0,1.0,1.0,1.0,1.0,26.0,622.0,471.0,2.0,-1.0])  |0.0         |no   |\n",
      "|(30,[0,11,13,16,17,18,19,21,24,25,26,27,28],[1.0,1.0,1.0,1.0,1.0,1.0,1.0,1.0,26.0,5795.0,1094.0,2.0,-1.0])|1.0         |yes  |\n",
      "+----------------------------------------------------------------------------------------------------------+------------+-----+\n",
      "only showing top 5 rows\n",
      "\n"
     ]
    }
   ],
   "source": [
    "print(\"The first 5 samples of the Training Dataset:\")\n",
    "trainingData.show(5, False)\n",
    "print(\"The first 5 samples of the Test Dataset:\")\n",
    "testData.show(5, False)"
   ]
  },
  {
   "cell_type": "code",
   "execution_count": 143,
   "metadata": {},
   "outputs": [],
   "source": [
    "lr = LogisticRegression(labelCol=\"indexedLabel\", featuresCol=\"features\")"
   ]
  },
  {
   "cell_type": "code",
   "execution_count": 144,
   "metadata": {},
   "outputs": [],
   "source": [
    "labelConverter = IndexToString(inputCol=\"prediction\", outputCol=\"predictedLabel\", labels=labelindexer.labels) \n",
    "pipeline = Pipeline(stages=[featureIndexer, lr, labelConverter])\n",
    "lrModel = pipeline.fit(trainingData)"
   ]
  },
  {
   "cell_type": "code",
   "execution_count": 145,
   "metadata": {},
   "outputs": [
    {
     "name": "stdout",
     "output_type": "stream",
     "text": [
      "+--------------------+------------+-----+--------------------+--------------------+--------------------+----------+--------------+\n",
      "|            features|indexedLabel|label|     indexedFeatures|       rawPrediction|         probability|prediction|predictedLabel|\n",
      "+--------------------+------------+-----+--------------------+--------------------+--------------------+----------+--------------+\n",
      "|(30,[0,11,13,16,1...|         0.0|   no|(30,[0,11,13,16,1...|[2.48901566578737...|[0.92336818078568...|       0.0|            no|\n",
      "|(30,[0,11,13,16,1...|         0.0|   no|(30,[0,11,13,16,1...|[0.22022733948194...|[0.55483538708590...|       0.0|            no|\n",
      "|(30,[0,11,13,16,1...|         0.0|   no|(30,[0,11,13,16,1...|[3.51750649213386...|[0.97118179842432...|       0.0|            no|\n",
      "|(30,[0,11,13,16,1...|         0.0|   no|(30,[0,11,13,16,1...|[2.19666402063509...|[0.89994953858362...|       0.0|            no|\n",
      "|(30,[0,11,13,16,1...|         1.0|  yes|(30,[0,11,13,16,1...|[-0.4111570922003...|[0.39863470462798...|       1.0|           yes|\n",
      "+--------------------+------------+-----+--------------------+--------------------+--------------------+----------+--------------+\n",
      "only showing top 5 rows\n",
      "\n"
     ]
    }
   ],
   "source": [
    "predictions = lrModel.transform(testData)\n",
    "predictions.show(5)"
   ]
  },
  {
   "cell_type": "code",
   "execution_count": 146,
   "metadata": {},
   "outputs": [
    {
     "name": "stdout",
     "output_type": "stream",
     "text": [
      "+--------------------+-----+--------------------+--------------+\n",
      "|            features|label|         probability|predictedLabel|\n",
      "+--------------------+-----+--------------------+--------------+\n",
      "|(30,[0,11,13,16,1...|   no|[0.92336818078568...|            no|\n",
      "|(30,[0,11,13,16,1...|   no|[0.55483538708590...|            no|\n",
      "|(30,[0,11,13,16,1...|   no|[0.97118179842432...|            no|\n",
      "|(30,[0,11,13,16,1...|   no|[0.89994953858362...|            no|\n",
      "|(30,[0,11,13,16,1...|  yes|[0.39863470462798...|           yes|\n",
      "+--------------------+-----+--------------------+--------------+\n",
      "only showing top 5 rows\n",
      "\n"
     ]
    }
   ],
   "source": [
    "predictions.select(\"features\", \"label\", \"probability\", \"predictedLabel\").show(5)"
   ]
  },
  {
   "cell_type": "code",
   "execution_count": 147,
   "metadata": {},
   "outputs": [
    {
     "name": "stdout",
     "output_type": "stream",
     "text": [
      "+-----+------------+\n",
      "|label|count(label)|\n",
      "+-----+------------+\n",
      "|   no|        7942|\n",
      "|  yes|        1084|\n",
      "+-----+------------+\n",
      "\n",
      "+--------------+---------------------+\n",
      "|predictedLabel|count(predictedLabel)|\n",
      "+--------------+---------------------+\n",
      "|            no|                 8498|\n",
      "|           yes|                  528|\n",
      "+--------------+---------------------+\n",
      "\n"
     ]
    }
   ],
   "source": [
    "cm = predictions.select(\"label\", \"predictedLabel\")          \n",
    "cm.groupby('label').agg({'label': 'count'}).show()  \n",
    "cm.groupby('predictedLabel').agg({'predictedLabel': 'count'}).show()"
   ]
  },
  {
   "cell_type": "code",
   "execution_count": 148,
   "metadata": {},
   "outputs": [
    {
     "name": "stdout",
     "output_type": "stream",
     "text": [
      "+-----+--------------+-----+\n",
      "|label|predictedLabel|count|\n",
      "+-----+--------------+-----+\n",
      "|   no|            no| 7757|\n",
      "|   no|           yes|  185|\n",
      "|  yes|           yes|  343|\n",
      "|  yes|            no|  741|\n",
      "+-----+--------------+-----+\n",
      "\n"
     ]
    }
   ],
   "source": [
    "predictions.groupBy('label', 'predictedLabel').count().show()"
   ]
  },
  {
   "cell_type": "code",
   "execution_count": 152,
   "metadata": {},
   "outputs": [
    {
     "name": "stdout",
     "output_type": "stream",
     "text": [
      "Accuracy of the Logistic Regression Model for the test data: 0.8974074894748504\n"
     ]
    }
   ],
   "source": [
    "evaluator = MulticlassClassificationEvaluator(labelCol=\"indexedLabel\", \n",
    "                                              predictionCol=\"prediction\", metricName=\"accuracy\")\n",
    "print(\"Accuracy of the Logistic Regression Model for the test data: {}\".format(evaluator.evaluate(predictions)))"
   ]
  },
  {
   "cell_type": "code",
   "execution_count": 154,
   "metadata": {},
   "outputs": [
    {
     "data": {
      "image/png": "[encoded data removed]",
      "text/plain": [
       "<Figure size 432x288 with 1 Axes>"
      ]
     },
     "metadata": {
      "needs_background": "light"
     },
     "output_type": "display_data"
    }
   ],
   "source": [
    "import matplotlib.pyplot as plt\n",
    "lrModel1 = lrModel.stages[1]\n",
    "trainingSummary = lrModel1.summary\n",
    "roc = trainingSummary.roc.toPandas()\n",
    "plt.plot(roc['FPR'],roc['TPR'])\n",
    "plt.ylabel('False Positive Rate')\n",
    "plt.xlabel('True Positive Rate')\n",
    "plt.title('ROC CURVE OF LOGISTIC REGRESSION MODEL')\n",
    "plt.show()"
   ]
  },
  {
   "cell_type": "code",
   "execution_count": 155,
   "metadata": {},
   "outputs": [],
   "source": [
    "rf = RandomForestClassifier(labelCol=\"indexedLabel\", featuresCol=\"features\")\n",
    "rfModel = rf.fit(trainingData)\n",
    "rf_predictions = rfModel.transform(testData)"
   ]
  },
  {
   "cell_type": "code",
   "execution_count": 156,
   "metadata": {},
   "outputs": [
    {
     "name": "stdout",
     "output_type": "stream",
     "text": [
      "The Accuracy for test set is 0.8830046532240196\n"
     ]
    }
   ],
   "source": [
    "evaluator = MulticlassClassificationEvaluator(labelCol=\"indexedLabel\", predictionCol=\"prediction\", metricName=\"accuracy\")\n",
    "print(\"The Accuracy for test set is {}\".format(evaluator.evaluate(rf_predictions)))"
   ]
  },
  {
   "cell_type": "code",
   "execution_count": 157,
   "metadata": {},
   "outputs": [
    {
     "data": {
      "image/png": "[encoded data removed]",
      "text/plain": [
       "<Figure size 432x288 with 1 Axes>"
      ]
     },
     "metadata": {
      "needs_background": "light"
     },
     "output_type": "display_data"
    },
    {
     "name": "stdout",
     "output_type": "stream",
     "text": [
      "Training data ROC Area Under The Curve: 0.8662306703282893\n"
     ]
    }
   ],
   "source": [
    "#rfModel1 = lrModel.stages[1]\n",
    "trainingSummary = rfModel.summary\n",
    "roc = trainingSummary.roc.toPandas()\n",
    "plt.plot(roc['FPR'],roc['TPR'])\n",
    "plt.ylabel('False Positive Rate')\n",
    "plt.xlabel('True Positive Rate')\n",
    "plt.title('ROC CURVE OF RANDOM FOREST MODEL')\n",
    "plt.show()\n",
    "print('Training data ROC Area Under The Curve: ' + str(trainingSummary.areaUnderROC))"
   ]
  },
  {
   "cell_type": "code",
   "execution_count": 158,
   "metadata": {},
   "outputs": [],
   "source": [
    "gbt = GBTClassifier(labelCol=\"indexedLabel\", featuresCol=\"features\")\n",
    "pipeline = Pipeline(stages=[featureIndexer, gbt, labelConverter])\n",
    "gbtModel = pipeline.fit(trainingData)\n",
    "gbt_predictions = gbtModel.transform(testData)"
   ]
  },
  {
   "cell_type": "code",
   "execution_count": 159,
   "metadata": {},
   "outputs": [
    {
     "name": "stdout",
     "output_type": "stream",
     "text": [
      "The Accuracy for test set is 0.8954132506093507\n"
     ]
    }
   ],
   "source": [
    "evaluator = MulticlassClassificationEvaluator(labelCol=\"indexedLabel\", predictionCol=\"prediction\", metricName=\"accuracy\")\n",
    "print(\"The Accuracy for test set is {}\".format(evaluator.evaluate(gbt_predictions)))"
   ]
  },
  {
   "cell_type": "code",
   "execution_count": 160,
   "metadata": {},
   "outputs": [
    {
     "name": "stdout",
     "output_type": "stream",
     "text": [
      "Area Under ROC for Gradient Boosting model: 0.8917245161182407\n"
     ]
    }
   ],
   "source": [
    "evaluator = BinaryClassificationEvaluator(labelCol=\"indexedLabel\")\n",
    "print('Area Under ROC for Gradient Boosting model:', evaluator.evaluate(gbt_predictions))"
   ]
  },
  {
   "cell_type": "code",
   "execution_count": 94,
   "metadata": {},
   "outputs": [],
   "source": [
    "sc.stop()"
   ]
  },
  {
   "cell_type": "code",
   "execution_count": null,
   "metadata": {},
   "outputs": [],
   "source": []
  }
 ],
 "metadata": {
  "kernelspec": {
   "display_name": "Python 3",
   "language": "python",
   "name": "python3"
  },
  "language_info": {
   "codemirror_mode": {
    "name": "ipython",
    "version": 3
   },
   "file_extension": ".py",
   "mimetype": "text/x-python",
   "name": "python",
   "nbconvert_exporter": "python",
   "pygments_lexer": "ipython3",
   "version": "3.8.5"
  }
 },
 "nbformat": 4,
 "nbformat_minor": 4
}
